{
 "cells": [
  {
   "cell_type": "markdown",
   "metadata": {},
   "source": [
    "# Tutorial\n",
    "\n",
    "Nangs is a python module built on top of pytorch to solve partial differential equations (PDEs).\n",
    "\n",
    "## How does it work ?\n",
    "\n",
    "Let's assume we want to solve the following PDE:\n",
    "\n",
    "\\begin{equation}\n",
    "    \\frac{\\partial \\phi}{\\partial t} + u \\frac{\\partial \\phi}{\\partial x} = 0\n",
    "\\end{equation}\n",
    "\n",
    "Different numerical techniques that solve this problem exist, and all of them are based on finding an approximate function that satisfies the PDE. Traditional numerical methods discretize the domain into small elements where a form of the solutions is assumed (for example, a constant) and then the final solution is composed as a piece-wise, discontinuous function.\n",
    "\n",
    "Nangs uses the property of neural networks (NNs) as universal function approximators to find a continuous and derivable solution to the PDE, that requires significant less computing resources compared with traditional techniques and with the advantage of including the free-parameters as part of the solution.\n",
    "\n",
    "The independen variables (i.e, $x$ and $t$) are used as input values for the NN, and the solution (i.e. $\\phi$) is the output. In order to find the solution, at each step the NN outputs are derived w.r.t the inputs. Then, a loss function that matches the PDE is built and the weights are updated accordingly. If the loss function goes to zero, we can assume that our NN is indeed the solution to our PDE.\n",
    "\n",
    "We will see how to do that in this basic tutorial."
   ]
  },
  {
   "cell_type": "markdown",
   "metadata": {},
   "source": [
    "## Quick start\n",
    "\n",
    "Here you can find the code required to solve the above mentioned PDE."
   ]
  },
  {
   "cell_type": "code",
   "execution_count": null,
   "metadata": {},
   "outputs": [],
   "source": [
    "# import nangs\n",
    "from nangs import PDE\n",
    "\n",
    "# define custom PDE\n",
    "class MyPDE(PDE):\n",
    "    def __init__(inputs, outputs):\n",
    "        super(inputs, outputs)\n",
    "    def computePdeLoss(grads, params): \n",
    "        # here is where the magic happens\n",
    "        dpdt, dpdx = grads['p']['t'], grads['p']['x']\n",
    "        u = params['u']\n",
    "        return dpdt + u*dpdx \n",
    "\n",
    "# instanciate the PDE with inputs, outputs and parameters\n",
    "pde = MyPDE(inputs=['t','x'], outputs='p', params='u')\n",
    "\n",
    "# set input values\n",
    "x = [0, 0.1, ..., 1.0]\n",
    "t = [0, 0.1, ..., 1.0]\n",
    "pde.setInputs({'x': x, 't': t})\n",
    "\n",
    "# set free-parameters\n",
    "u = 1\n",
    "pde.addParam('u', u) \n",
    "\n",
    "# set boundary conditions\n",
    "# periodic b.c for the space dimension\n",
    "xb = [0, 1]\n",
    "pde.addBoco({'x': xb, 't': t}, type='PERIODIC')\n",
    "# initial condition (dirichlet for temporal dimension)\n",
    "p0 = np.sin(2*pi*x)\n",
    "pde.addBoco({'x': x, 't': 0, 'p': p0}, type='DIRICHLET')\n",
    "\n",
    "# define solution topology\n",
    "topo = {'layers': 10, 'neurons': 256, 'activations': ‘relu’}\n",
    "pde.setTopology(topo)\n",
    "\n",
    "# set optimization parameters\n",
    "pde.setSolverParams(criterion, optimizer, …)\n",
    "\n",
    "# find the solution\n",
    "pde.solve() \n",
    "\n",
    "# evaluate the solution\n",
    "x, t, u = [0, 0.1, …, 0.9, 1.0], 1, 1\n",
    "p = pde.eval({'x': x, 't': t, 'u': 1})\n",
    "\n",
    "# plt.plot(x, p)\n",
    "# plt.show()\n",
    "    \n"
   ]
  },
  {
   "cell_type": "markdown",
   "metadata": {},
   "source": [
    "## Step by step guide\n",
    "\n",
    "Let's go through the code step by step. First, we import the nangs module to acces its predefined classes and operations to solve PDEs with NNs."
   ]
  },
  {
   "cell_type": "code",
   "execution_count": null,
   "metadata": {},
   "outputs": [],
   "source": [
    "from nangs import PDE"
   ]
  },
  {
   "cell_type": "markdown",
   "metadata": {},
   "source": [
    "### Defining the PDE"
   ]
  },
  {
   "cell_type": "markdown",
   "metadata": {},
   "source": [
    "Then, we have to instanciate a PDE in order to solve it. We can use a predefined PDE or build our custom one. In this tutorial we are going to solve the one-dimensional advection equation with a custom implementation."
   ]
  },
  {
   "cell_type": "code",
   "execution_count": null,
   "metadata": {},
   "outputs": [],
   "source": [
    "class MyPDE(PDE):\n",
    "    def __init__(inputs, outputs):\n",
    "        super(inputs, outputs)\n",
    "    def computePdeLoss(grads, params): \n",
    "        # here is where the magic happens\n",
    "        dpdt, dpdx = grads['p']['t'], grads['p']['x']\n",
    "        u = params['u']\n",
    "        return dpdt + u*dpdx = 0"
   ]
  },
  {
   "cell_type": "markdown",
   "metadata": {},
   "source": [
    "When defining a custom PDE we are required to overwrite the **computePdeLoss** method. This is the function that will be called during the optimization process, and we must ensure that the value returned matches our PDE. If not, we are going to solve a wrong equation.\n",
    "\n",
    "We build the loss function by combining the derivatives of the NN ouputs w.r.t the inputs and free-parameters in the correct way. Notice that we use characters to retrieve the values ('p' for the output, 'x' and 't' for the inputs and 'u' for the parameter). We must ensure that this keys are created accordingly when the PDE is instanciated."
   ]
  },
  {
   "cell_type": "code",
   "execution_count": null,
   "metadata": {},
   "outputs": [],
   "source": [
    "pde = MyPDE(inputs=['t','x'], outputs='p', params='u')"
   ]
  },
  {
   "cell_type": "markdown",
   "metadata": {},
   "source": [
    "The following lines of code have the same effect than the previous one."
   ]
  },
  {
   "cell_type": "code",
   "execution_count": null,
   "metadata": {},
   "outputs": [],
   "source": [
    "# instanciate a PDE without parameters\n",
    "pde = MyPDE()\n",
    "# add inputs one by one or together with an array\n",
    "pde.addInput('x')\n",
    "pde.addInputs(['x','t'])\n",
    "# add outputs one by one or together with an array\n",
    "pde.addOutput('p')\n",
    "pde.addOutputs(['p1','p2']) # if that is the case\n",
    "# add parameters one by one or together with an array\n",
    "pde.addParam('u')\n",
    "pde.addParams(['u','v']) # if that is the case"
   ]
  },
  {
   "cell_type": "markdown",
   "metadata": {},
   "source": [
    "Note that a free-parameter can also be included as input to the NN."
   ]
  },
  {
   "cell_type": "code",
   "execution_count": null,
   "metadata": {},
   "outputs": [],
   "source": [
    "# short version\n",
    "pde = MyPDE(inputs=['t','x','u'], outputs='p', params='u')\n",
    "\n",
    "# long version\n",
    "pde = MyPDE()\n",
    "pde.addInputs(['x','t','u'])\n",
    "pde.addOutput('p')\n",
    "pde.addParam('u')"
   ]
  },
  {
   "cell_type": "markdown",
   "metadata": {},
   "source": [
    "Different errors may arise when trying to define several inputs/outputs/parameters with the same key (depending on the order of definition). It is required a unique key for every inputs/outputs/parameter."
   ]
  },
  {
   "cell_type": "code",
   "execution_count": null,
   "metadata": {},
   "outputs": [],
   "source": [
    "pde = MyPDE(inputs=['t','x'], outputs='p', params='u')\n",
    "pde.addInput('x') # error: x already exists\n",
    "pde.addInput('p') # error: p already exists\n",
    "pde.addParam('u') # error: u already exists\n",
    "pde.addInput('u') # allowed since a parameter can also be input"
   ]
  },
  {
   "cell_type": "markdown",
   "metadata": {},
   "source": [
    "At this point we only have declared keys to our variables. In order to solve the PDE we have to specify actual values for all this variables that will be evaluated during the optimization process."
   ]
  },
  {
   "cell_type": "code",
   "execution_count": null,
   "metadata": {},
   "outputs": [],
   "source": [
    "# set input values\n",
    "x = [0, 0.1, ..., 1.0]\n",
    "t = [0, 0.1, ..., 1.0]\n",
    "pde.setInputs({'x': x, 't': t})\n",
    "\n",
    "# set free-parameters\n",
    "u = 1\n",
    "pde.addParam('u', u) "
   ]
  },
  {
   "cell_type": "markdown",
   "metadata": {},
   "source": [
    "We can also add inputs one by one and several parameters at once."
   ]
  },
  {
   "cell_type": "code",
   "execution_count": null,
   "metadata": {},
   "outputs": [],
   "source": [
    "x = [0, 0.1, ..., 1.0]\n",
    "pde.setInput('x', x)\n",
    "\n",
    "t = [0, 0.1, ..., 1.0]\n",
    "pde.setInput('t', t)\n",
    "\n",
    "u, v = 1, 2\n",
    "pde.addParam({'u': u, 'v': v}) "
   ]
  },
  {
   "cell_type": "markdown",
   "metadata": {},
   "source": [
    "In order to be able to solve the PDE you will need to specify at least one value for each input/parameter. Again, several errors may arise when trying to set values for undefined keys."
   ]
  },
  {
   "cell_type": "code",
   "execution_count": null,
   "metadata": {},
   "outputs": [],
   "source": [
    "y = [0, 0.1, ..., 1.0]\n",
    "pde.setInput('y', y) # error: y is not an input\n",
    "pde.setParam('y', y) # error: y is not a param"
   ]
  },
  {
   "cell_type": "markdown",
   "metadata": {},
   "source": [
    "### Defining boundary conditions"
   ]
  },
  {
   "cell_type": "markdown",
   "metadata": {},
   "source": [
    "We could attempt to start finding the solution at this point, and probably we would find one. Nevertheless that would be a trivial solution since a PDE is constrained by boundary conditions. We can add them as follow."
   ]
  },
  {
   "cell_type": "code",
   "execution_count": null,
   "metadata": {},
   "outputs": [],
   "source": [
    "# periodic b.c for the space dimension\n",
    "xb = [(0, 1)]\n",
    "pde.addBoco({'x': xb, 't': t}, type='PERIODIC')\n",
    "\n",
    "# initial condition (dirichlet for temporal dimension)\n",
    "p0 = np.sin(2*pi*x)\n",
    "pde.addBoco({'x': x, 't': 0, 'p': p0}, type='DIRICHLET')"
   ]
  },
  {
   "cell_type": "markdown",
   "metadata": {},
   "source": [
    "Boundary conditions must be specified one at a time. Depending on the **type** a different number of parameters are required. \n",
    "\n",
    "A PERIODIC boundary conditions requires pairs of values that will be enforced to be equal at every step using a mean squared optimization.\n",
    "\n",
    "A DIRICHLET boundary condition requires a specific value for the outputs that will be matched using a typical mean squared optimization.\n",
    "\n",
    "You can see a list of boundary conditions here."
   ]
  },
  {
   "cell_type": "markdown",
   "metadata": {},
   "source": [
    "### NN topology and optimization parameters"
   ]
  },
  {
   "cell_type": "markdown",
   "metadata": {},
   "source": [
    "We encode the solution to the PDE using a multi-layer perceptron (MLP).\n",
    "\n",
    "There are two ways to define the topolgy."
   ]
  },
  {
   "cell_type": "code",
   "execution_count": null,
   "metadata": {},
   "outputs": [],
   "source": [
    "# compact form\n",
    "topo = {'layers': 10, 'neurons': 256, 'activations': 'relu'}\n",
    "\n",
    "# layer by layer\n",
    "topo = [{'layers': 1, 'neurons': 256, 'activations': 'relu'},\n",
    "        {'layers': 2, 'neurons': 512, 'activations': 'relu'},\n",
    "        {'layers': 1, 'neurons': 32, 'activations': 'sigmoid'}]\n",
    "\n",
    "\n",
    "pde.setTopology(topo)"
   ]
  },
  {
   "cell_type": "markdown",
   "metadata": {},
   "source": [
    "Then, we define our optimization criteria and optimizer. More on this on Pytorch reference guide."
   ]
  },
  {
   "cell_type": "code",
   "execution_count": null,
   "metadata": {},
   "outputs": [],
   "source": [
    "# set optimization parameters\n",
    "pde.setSolverParams(criterion, optimizer, …)"
   ]
  },
  {
   "cell_type": "markdown",
   "metadata": {},
   "source": [
    "### Solving the PDE"
   ]
  },
  {
   "cell_type": "markdown",
   "metadata": {},
   "source": [
    "With everything in place, we can now solve the PDE. "
   ]
  },
  {
   "cell_type": "code",
   "execution_count": null,
   "metadata": {},
   "outputs": [],
   "source": [
    "pde.solve()"
   ]
  },
  {
   "cell_type": "markdown",
   "metadata": {},
   "source": [
    "We can get a summary of the problem"
   ]
  },
  {
   "cell_type": "code",
   "execution_count": null,
   "metadata": {},
   "outputs": [],
   "source": [
    "pde.summary() "
   ]
  },
  {
   "cell_type": "markdown",
   "metadata": {},
   "source": [
    "Depending on the problem configuration this will take more or less time. If the loss function does not goes to zero, something is wrong. "
   ]
  },
  {
   "cell_type": "markdown",
   "metadata": {},
   "source": [
    "### Evaluate the solution"
   ]
  },
  {
   "cell_type": "markdown",
   "metadata": {},
   "source": [
    "Once the training is done, we can evaluate our solution."
   ]
  },
  {
   "cell_type": "code",
   "execution_count": null,
   "metadata": {},
   "outputs": [],
   "source": [
    "x, t, u = [0, 0.1, …, 0.9, 1.0], 1, 1\n",
    "p = pde.eval({'x': x, 't': t, 'u': 1})\n",
    "\n",
    "# plt.plot(x, p)\n",
    "# plt.show()"
   ]
  },
  {
   "cell_type": "markdown",
   "metadata": {},
   "source": [
    "We can pass an array of values for each input, getting the results accordingly."
   ]
  },
  {
   "cell_type": "code",
   "execution_count": null,
   "metadata": {},
   "outputs": [],
   "source": [
    "x, t, u = [0, 0.1, …, 0.9, 1.0], [0, 0.1, 0.2], 1\n",
    "p = pde.eval({'x': x, 't': t, 'u': 1})\n",
    "# p = [[p0t0, p1t0, … ],[p0t1, p1t1, … ],[p0t2, p1t2, … ]]"
   ]
  },
  {
   "cell_type": "markdown",
   "metadata": {},
   "source": [
    "### Saving and loading the model"
   ]
  },
  {
   "cell_type": "markdown",
   "metadata": {},
   "source": [
    "We can save the solution using standard pytorch notation. The NN can be accesed as"
   ]
  },
  {
   "cell_type": "code",
   "execution_count": null,
   "metadata": {},
   "outputs": [],
   "source": [
    "model = pde.solution()\n",
    "PATH = 'MyPDE_solution.pt'\n",
    "\n",
    "# save model\n",
    "torch.save(model.state_dict(), PATH)"
   ]
  },
  {
   "cell_type": "markdown",
   "metadata": {},
   "source": [
    "Then we can load the model to continue training or just use it to get a solution. Be sure to call the **init** function to build the internal model before loading the weights. "
   ]
  },
  {
   "cell_type": "code",
   "execution_count": null,
   "metadata": {},
   "outputs": [],
   "source": [
    "pde.init()\n",
    "\n",
    "model.load_state_dict(torch.load(PATH))\n",
    "\n",
    "# to continue training, set model in training mode\n",
    "model.train()\n",
    "\n",
    "# to evaluate, set model in eval mode\n",
    "model.eval()"
   ]
  },
  {
   "cell_type": "markdown",
   "metadata": {},
   "source": [
    "When loading a model for evaluation, it is not required to set values for inputs/parameters. Nevertheless, to continue training all the previous steps are required."
   ]
  },
  {
   "cell_type": "markdown",
   "metadata": {},
   "source": [
    "### Author\n",
    "\n",
    "Juan Sensio - juansensio03@gmail.com"
   ]
  }
 ],
 "metadata": {
  "kernelspec": {
   "display_name": "Python 3",
   "language": "python",
   "name": "python3"
  },
  "language_info": {
   "codemirror_mode": {
    "name": "ipython",
    "version": 3
   },
   "file_extension": ".py",
   "mimetype": "text/x-python",
   "name": "python",
   "nbconvert_exporter": "python",
   "pygments_lexer": "ipython3",
   "version": "3.7.0"
  }
 },
 "nbformat": 4,
 "nbformat_minor": 2
}
