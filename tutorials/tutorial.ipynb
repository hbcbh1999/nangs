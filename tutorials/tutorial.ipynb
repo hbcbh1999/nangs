{
 "cells": [
  {
   "cell_type": "markdown",
   "metadata": {},
   "source": [
    "# Tutorial\n",
    "\n",
    "Nangs is a python module built on top of pytorch to solve partial differential equations (PDEs).\n",
    "\n",
    "## How does it work ?\n",
    "\n",
    "Let's assume we want to solve the following PDE:\n",
    "\n",
    "\\begin{equation}\n",
    "    \\frac{\\partial \\phi}{\\partial t} + u \\frac{\\partial \\phi}{\\partial x} = 0\n",
    "\\end{equation}\n",
    "\n",
    "Different numerical techniques that solve this problem exist, and all of them are based on finding an approximate function that satisfies the PDE. Traditional numerical methods discretize the domain into small elements where a form of the solutions is assumed (for example, a constant) and then the final solution is composed as a piece-wise, discontinuous function.\n",
    "\n",
    "Nangs uses the property of neural networks (NNs) as universal function approximators to find a continuous and derivable solution to the PDE, that requires significant less computing resources compared with traditional techniques and with the advantage of including the free-parameters as part of the solution.\n",
    "\n",
    "The independen variables (i.e, $x$ and $t$) are used as input values for the NN, and the solution (i.e. $\\phi$) is the output. In order to find the solution, at each step the NN outputs are derived w.r.t the inputs. Then, a loss function that matches the PDE is built and the weights are updated accordingly. If the loss function goes to zero, we can assume that our NN is indeed the solution to our PDE.\n",
    "\n",
    "We will see how to do that in this basic tutorial."
   ]
  },
  {
   "cell_type": "markdown",
   "metadata": {},
   "source": [
    "## Quick start\n",
    "\n",
    "Here you can find the code required to solve the above mentioned PDE."
   ]
  },
  {
   "cell_type": "code",
   "execution_count": null,
   "metadata": {},
   "outputs": [],
   "source": [
    "%reload_ext autoreload\n",
    "%autoreload 2\n",
    "%matplotlib inline"
   ]
  },
  {
   "cell_type": "code",
   "execution_count": 3,
   "metadata": {},
   "outputs": [
    {
     "name": "stdout",
     "output_type": "stream",
     "text": [
      "cpu\n"
     ]
    },
    {
     "ename": "ValueError",
     "evalue": "not enough values to unpack (expected 2, got 1)",
     "output_type": "error",
     "traceback": [
      "\u001b[0;31m---------------------------------------------------------------------------\u001b[0m",
      "\u001b[0;31mValueError\u001b[0m                                Traceback (most recent call last)",
      "\u001b[0;32m<ipython-input-3-44ed068ded14>\u001b[0m in \u001b[0;36m<module>\u001b[0;34m\u001b[0m\n\u001b[1;32m     50\u001b[0m \u001b[0;34m\u001b[0m\u001b[0m\n\u001b[1;32m     51\u001b[0m \u001b[0;31m# find the solution\u001b[0m\u001b[0;34m\u001b[0m\u001b[0;34m\u001b[0m\u001b[0m\n\u001b[0;32m---> 52\u001b[0;31m \u001b[0mpde\u001b[0m\u001b[0;34m.\u001b[0m\u001b[0msolve\u001b[0m\u001b[0;34m(\u001b[0m\u001b[0mdevice\u001b[0m\u001b[0;34m,\u001b[0m \u001b[0meach_epoch_print\u001b[0m\u001b[0;34m=\u001b[0m\u001b[0;36m100\u001b[0m\u001b[0;34m)\u001b[0m\u001b[0;34m\u001b[0m\u001b[0m\n\u001b[0m\u001b[1;32m     53\u001b[0m \u001b[0;34m\u001b[0m\u001b[0m\n\u001b[1;32m     54\u001b[0m \u001b[0;31m# evaluate the solution\u001b[0m\u001b[0;34m\u001b[0m\u001b[0;34m\u001b[0m\u001b[0m\n",
      "\u001b[0;32m~/Desktop/nangs/tutorials/nangs/pde/pde.py\u001b[0m in \u001b[0;36msolve\u001b[0;34m(self, device, each_epoch_print)\u001b[0m\n\u001b[1;32m    110\u001b[0m                 \u001b[0;31m# compute bocos loss\u001b[0m\u001b[0;34m\u001b[0m\u001b[0;34m\u001b[0m\u001b[0m\n\u001b[1;32m    111\u001b[0m                 \u001b[0;32mfor\u001b[0m \u001b[0mboco\u001b[0m \u001b[0;32min\u001b[0m \u001b[0mself\u001b[0m\u001b[0;34m.\u001b[0m\u001b[0mbocos\u001b[0m\u001b[0;34m:\u001b[0m\u001b[0;34m\u001b[0m\u001b[0m\n\u001b[0;32m--> 112\u001b[0;31m                     \u001b[0mloss\u001b[0m \u001b[0;34m+=\u001b[0m \u001b[0mboco\u001b[0m\u001b[0;34m.\u001b[0m\u001b[0mcomputeLoss\u001b[0m\u001b[0;34m(\u001b[0m\u001b[0mmodel\u001b[0m\u001b[0;34m,\u001b[0m \u001b[0mdevice\u001b[0m\u001b[0;34m)\u001b[0m\u001b[0;34m\u001b[0m\u001b[0m\n\u001b[0m\u001b[1;32m    113\u001b[0m \u001b[0;34m\u001b[0m\u001b[0m\n\u001b[1;32m    114\u001b[0m                 \u001b[0moptimizer\u001b[0m\u001b[0;34m.\u001b[0m\u001b[0mzero_grad\u001b[0m\u001b[0;34m(\u001b[0m\u001b[0;34m)\u001b[0m\u001b[0;34m\u001b[0m\u001b[0m\n",
      "\u001b[0;32m~/Desktop/nangs/tutorials/nangs/bocos/dirichlet_boco.py\u001b[0m in \u001b[0;36mcomputeLoss\u001b[0;34m(self, model, device)\u001b[0m\n\u001b[1;32m     50\u001b[0m         \u001b[0mloss\u001b[0m \u001b[0;34m=\u001b[0m \u001b[0;34m[\u001b[0m\u001b[0;34m]\u001b[0m\u001b[0;34m\u001b[0m\u001b[0m\n\u001b[1;32m     51\u001b[0m         \u001b[0;32mfor\u001b[0m \u001b[0minputs\u001b[0m\u001b[0;34m,\u001b[0m \u001b[0moutputs\u001b[0m \u001b[0;32min\u001b[0m \u001b[0mself\u001b[0m\u001b[0;34m.\u001b[0m\u001b[0mdataloader\u001b[0m\u001b[0;34m:\u001b[0m\u001b[0;34m\u001b[0m\u001b[0m\n\u001b[0;32m---> 52\u001b[0;31m             \u001b[0minputs\u001b[0m\u001b[0;34m,\u001b[0m \u001b[0moutputs\u001b[0m \u001b[0;34m=\u001b[0m \u001b[0minputs\u001b[0m\u001b[0;34m.\u001b[0m\u001b[0mto\u001b[0m\u001b[0;34m(\u001b[0m\u001b[0mdevice\u001b[0m\u001b[0;34m)\u001b[0m\u001b[0;34m,\u001b[0m \u001b[0moutputs\u001b[0m\u001b[0;34m.\u001b[0m\u001b[0mto\u001b[0m\u001b[0;34m(\u001b[0m\u001b[0mdevice\u001b[0m\u001b[0;34m)\u001b[0m\u001b[0;34m\u001b[0m\u001b[0m\n\u001b[0m\u001b[1;32m     53\u001b[0m             \u001b[0mpreds\u001b[0m \u001b[0;34m=\u001b[0m \u001b[0mmodel\u001b[0m\u001b[0;34m(\u001b[0m\u001b[0minputs\u001b[0m\u001b[0;34m)\u001b[0m\u001b[0;34m\u001b[0m\u001b[0m\n\u001b[1;32m     54\u001b[0m             \u001b[0mloss\u001b[0m\u001b[0;34m.\u001b[0m\u001b[0mappend\u001b[0m\u001b[0;34m(\u001b[0m\u001b[0mself\u001b[0m\u001b[0;34m.\u001b[0m\u001b[0mloss\u001b[0m\u001b[0;34m(\u001b[0m\u001b[0mpreds\u001b[0m\u001b[0;34m,\u001b[0m \u001b[0moutputs\u001b[0m\u001b[0;34m)\u001b[0m\u001b[0;34m)\u001b[0m\u001b[0;34m\u001b[0m\u001b[0m\n",
      "\u001b[0;31mValueError\u001b[0m: not enough values to unpack (expected 2, got 1)"
     ]
    }
   ],
   "source": [
    "import math\n",
    "import numpy as np \n",
    "import matplotlib.pyplot as plt \n",
    "\n",
    "import torch\n",
    "cuda = False\n",
    "device = torch.device(\"cuda:0\" if torch.cuda.is_available() and cuda else \"cpu\")\n",
    "print(device)\n",
    "\n",
    "# import nangs\n",
    "from nangs import PDE\n",
    "from nangs.bocos import PeriodicBoco, DirichletBoco\n",
    "\n",
    "# define custom PDE\n",
    "class MyPDE(PDE):\n",
    "    def __init__(self, inputs=None, outputs=None, params=None):\n",
    "        super().__init__(inputs, outputs, params)\n",
    "    def computePdeLoss(self, grads, params): \n",
    "        # here is where the magic happens\n",
    "        dpdt, dpdx = grads['p']['t'], grads['p']['x']\n",
    "        u = params['u']\n",
    "        return dpdt + u*dpdx\n",
    "\n",
    "# instanciate pde\n",
    "pde = MyPDE(inputs=['x', 't'], outputs=['p'], params=['u'])\n",
    "\n",
    "# define input values\n",
    "x = np.linspace(0,1,10)\n",
    "t = np.linspace(0,1,10)\n",
    "u = np.array([1])\n",
    "\n",
    "pde.setValues({'x': x, 't': t, 'u': u})\n",
    "\n",
    "# periodic b.c for the space dimension\n",
    "x1, x2 = np.array([0]), np.array([1])\n",
    "boco = PeriodicBoco(pde.inputs, {'x': x1, 't': t}, {'x': x2, 't': t})\n",
    "pde.addBoco(boco)\n",
    "\n",
    "# initial condition (dirichlet for temporal dimension)\n",
    "p0 = np.sin(2.*math.pi*x)\n",
    "boco = DirichletBoco(pde.inputs, pde.outputs, {'x': x, 't': np.array([0])}, {'p': p0})\n",
    "pde.addBoco(boco)\n",
    "\n",
    "# define solution topology\n",
    "topo = {'layers': 5, 'neurons': 32, 'activations': 'relu'}\n",
    "pde.buildModel(topo, device)\n",
    "\n",
    "# set optimization parameters\n",
    "pde.setSolverParams(lr=0.01,epochs=1000, batch_size=100)\n",
    "\n",
    "# find the solution\n",
    "pde.solve(device, each_epoch_print=100) \n",
    "\n",
    "# evaluate the solution\n",
    "x = np.linspace(0,1,50)\n",
    "t = np.linspace(0,1,4)\n",
    "for _t in t:\n",
    "    p0 = np.sin(2.*math.pi*(x-u*_t))\n",
    "    p = pde.eval({'x': x, 't': np.array([_t])})\n",
    "    plt.plot(x, p, 'k')\n",
    "    plt.plot(x, p0)\n",
    "    plt.show()"
   ]
  },
  {
   "cell_type": "markdown",
   "metadata": {},
   "source": [
    "## Step by step guide\n",
    "\n",
    "Let's go through the code step by step. First, we import the nangs module to acces its predefined classes and operations to solve PDEs with NNs."
   ]
  },
  {
   "cell_type": "code",
   "execution_count": null,
   "metadata": {},
   "outputs": [],
   "source": [
    "from nangs import PDE\n",
    "\n",
    "%load_ext autoreload\n",
    "%autoreload 2"
   ]
  },
  {
   "cell_type": "markdown",
   "metadata": {},
   "source": [
    "### Defining the PDE"
   ]
  },
  {
   "cell_type": "markdown",
   "metadata": {},
   "source": [
    "Then, we have to instanciate a PDE in order to solve it. We can use a predefined PDE or build our custom one. In this tutorial we are going to solve the one-dimensional advection equation with a custom implementation."
   ]
  },
  {
   "cell_type": "code",
   "execution_count": null,
   "metadata": {},
   "outputs": [],
   "source": [
    "class MyPDE(PDE):\n",
    "    def __init__(self, inputs=None, outputs=None, params=None):\n",
    "        super().__init__(inputs, outputs, params)\n",
    "    def computePdeLoss(self, grads, params): \n",
    "        # here is where the magic happens\n",
    "        dpdt, dpdx = grads['p']['t'], grads['p']['x']\n",
    "        u = params['u']\n",
    "        return dpdt + u*dpdx"
   ]
  },
  {
   "cell_type": "markdown",
   "metadata": {},
   "source": [
    "When defining a custom PDE we are required to overwrite the **computePdeLoss** method. This is the function that will be called during the optimization process, and we must ensure that the value returned matches our PDE. If not, we are going to solve a wrong equation.\n",
    "\n",
    "We build the loss function by combining the derivatives of the NN ouputs w.r.t the inputs and free-parameters in the correct way. Notice that we use keys to retrieve the values ('p' for the output, 'x' and 't' for the inputs and 'u' for the parameter). We must ensure that this keys are created accordingly when the PDE is instanciated."
   ]
  },
  {
   "cell_type": "code",
   "execution_count": null,
   "metadata": {},
   "outputs": [],
   "source": [
    "pde = MyPDE(inputs=['x', 't'], outputs=['p'], params=['x'])\n",
    "pde.summary()"
   ]
  },
  {
   "cell_type": "markdown",
   "metadata": {},
   "source": [
    "We have created two inputs 'x' and 't', an output 'p' and a parameter 'u'. The keys for the different variables must be unique and passed as a list. The order of each key in the list determines the position of the input/output in the corresponding NN layer. "
   ]
  },
  {
   "cell_type": "markdown",
   "metadata": {},
   "source": [
    "Note that a free-parameter can also be included as input to the NN."
   ]
  },
  {
   "cell_type": "code",
   "execution_count": null,
   "metadata": {},
   "outputs": [],
   "source": [
    "# short version\n",
    "pde = MyPDE(inputs=['t','x','u'], outputs=['p'], params=['u'])\n",
    "pde.summary()"
   ]
  },
  {
   "cell_type": "markdown",
   "metadata": {},
   "source": [
    "Different errors may arise when trying to define several inputs/outputs/parameters with the same key. The only allowed repeated values are input-param pairs."
   ]
  },
  {
   "cell_type": "code",
   "execution_count": null,
   "metadata": {},
   "outputs": [],
   "source": [
    "#pde = MyPDE(inputs=['x','x'], outputs=['p'], params=['u'])\n",
    "#pde = MyPDE(inputs=['t','x'], outputs=['x'], params=['u'])\n",
    "#pde = MyPDE(inputs=['t','x'], outputs=['p', 'p'], params=['u'])\n",
    "#pde = MyPDE(inputs=['t','x'], outputs=['p'], params=['p'])\n",
    "pde = MyPDE(inputs=['t','x'], outputs=['p'], params=['u'])\n",
    "pde.summary()"
   ]
  },
  {
   "cell_type": "markdown",
   "metadata": {},
   "source": [
    "At this point we only have declared keys to our variables. In order to solve the PDE we have to specify actual values for all this variables that will be evaluated during the optimization process. We can define this values with the corresponding functions. Values are passed as dictionaries, with the key of the variable and the values as a numpy array of ine dimension. Values for outputs cannot be set."
   ]
  },
  {
   "cell_type": "code",
   "execution_count": null,
   "metadata": {},
   "outputs": [],
   "source": [
    "import numpy as np \n",
    "\n",
    "pde = MyPDE(inputs=['x', 't', 'u'], outputs=['p'], params=['u'])\n",
    "\n",
    "# set input values\n",
    "x = np.array([0, 0.25, 0.5, 0.75, 1.0])\n",
    "t = np.array([0,0.25, 0.5, 0.75, 1.0])\n",
    "u = np.array([1])\n",
    "\n",
    "pde.setValues({'x': x, 't': t, 'u': u})\n",
    "\n",
    "pde.summary()"
   ]
  },
  {
   "cell_type": "markdown",
   "metadata": {},
   "source": [
    "### Defining boundary conditions"
   ]
  },
  {
   "cell_type": "markdown",
   "metadata": {},
   "source": [
    "We could attempt to start finding the solution at this point, and probably we would find one. Nevertheless that would be a trivial solution since a PDE is constrained by boundary conditions. We can add them as follow."
   ]
  },
  {
   "cell_type": "code",
   "execution_count": null,
   "metadata": {},
   "outputs": [],
   "source": [
    "import math\n",
    "from nangs.bocos import PeriodicBoco, DirichletBoco\n",
    "\n",
    "pde = MyPDE(inputs=['x', 't'], outputs=['p'], params=['u'])\n",
    "\n",
    "x = np.array([0, 0.25, 0.5, 0.75, 1.0])\n",
    "t = np.array([0,0.25, 0.5, 0.75, 1.0])\n",
    "u = np.array([1])\n",
    "\n",
    "pde.setValues({'x': x, 't': t, 'u': u})\n",
    "\n",
    "# periodic b.c for the space dimension\n",
    "x1, x2 = np.array([0]), np.array([1])\n",
    "boco = PeriodicBoco(pde.inputs, {'x': x1, 't': t}, {'x': x2, 't': t})\n",
    "pde.addBoco(boco)\n",
    "\n",
    "# initial condition (dirichlet for temporal dimension)\n",
    "p0 = np.sin(2.*math.pi*x)\n",
    "boco = DirichletBoco(pde.inputs, pde.outputs, {'x': x, 't': np.array([0])}, {'p': p0})\n",
    "pde.addBoco(boco)\n",
    "\n",
    "pde.summary()\n",
    "pde.bocoSummary()"
   ]
  },
  {
   "cell_type": "markdown",
   "metadata": {},
   "source": [
    "Boundary conditions must be specified one at a time. Depending on the **type** a different number of parameters are required. \n",
    "\n",
    "A PERIODIC boundary condition requires pairs of values that will be enforced to be equal at every step using a mean squared optimization.\n",
    "\n",
    "A DIRICHLET boundary condition requires a specific value for the outputs that will be matched using a typical mean squared optimization."
   ]
  },
  {
   "cell_type": "markdown",
   "metadata": {},
   "source": [
    "### NN topology and optimization parameters"
   ]
  },
  {
   "cell_type": "markdown",
   "metadata": {},
   "source": [
    "We encode the solution to the PDE using a multi-layer perceptron (MLP).\n",
    "\n",
    "There are two ways to define the topolgy."
   ]
  },
  {
   "cell_type": "code",
   "execution_count": null,
   "metadata": {},
   "outputs": [],
   "source": [
    "# compact form\n",
    "topo = {'layers': 3, 'neurons': 32, 'activations': 'relu'}\n",
    "\n",
    "# TODO: layer by layer\n",
    "#topo = [{'layers': 1, 'neurons': 256, 'activations': 'relu'},\n",
    "#        {'layers': 2, 'neurons': 512, 'activations': 'relu'},\n",
    "#        {'layers': 1, 'neurons': 32, 'activations': 'sigmoid'}]\n",
    "\n",
    "\n",
    "pde.buildModel(topo)"
   ]
  },
  {
   "cell_type": "code",
   "execution_count": null,
   "metadata": {},
   "outputs": [],
   "source": [
    "pde.model"
   ]
  },
  {
   "cell_type": "markdown",
   "metadata": {},
   "source": [
    "Then, we define our optimization criteria and optimizer. More on this on Pytorch reference guide."
   ]
  },
  {
   "cell_type": "code",
   "execution_count": null,
   "metadata": {},
   "outputs": [],
   "source": [
    "# set optimization parameters\n",
    "pde.setSolverParams(lr=0.01,epochs=100,batch_size=10)"
   ]
  },
  {
   "cell_type": "markdown",
   "metadata": {},
   "source": [
    "### Solving the PDE"
   ]
  },
  {
   "cell_type": "markdown",
   "metadata": {},
   "source": [
    "With everything in place, we can now solve the PDE. "
   ]
  },
  {
   "cell_type": "code",
   "execution_count": null,
   "metadata": {},
   "outputs": [],
   "source": [
    "pde.solve(each_epoch_print=10)"
   ]
  },
  {
   "cell_type": "markdown",
   "metadata": {},
   "source": [
    "Depending on the problem configuration this will take more or less time. If the loss function does not goes to zero, something is wrong. "
   ]
  },
  {
   "cell_type": "markdown",
   "metadata": {},
   "source": [
    "### Evaluate the solution"
   ]
  },
  {
   "cell_type": "markdown",
   "metadata": {},
   "source": [
    "Once the training is done, we can evaluate our solution."
   ]
  },
  {
   "cell_type": "code",
   "execution_count": null,
   "metadata": {},
   "outputs": [],
   "source": [
    "x = np.linspace(0,1,50)\n",
    "t = np.linspace(0,1,4)\n",
    "for _t in t:\n",
    "    p0 = np.sin(2.*math.pi*(x-u*_t))\n",
    "    p = pde.eval({'x': x, 't': np.array([_t])})\n",
    "    plt.plot(x, p, 'k')\n",
    "    plt.plot(x, p0)\n",
    "    plt.show()"
   ]
  },
  {
   "cell_type": "markdown",
   "metadata": {},
   "source": [
    "### Saving and loading the model"
   ]
  },
  {
   "cell_type": "markdown",
   "metadata": {},
   "source": [
    "We can save the solution using standard pytorch functions. "
   ]
  },
  {
   "cell_type": "code",
   "execution_count": null,
   "metadata": {},
   "outputs": [],
   "source": [
    "import torch\n",
    "\n",
    "PATH = 'MyPDE_solution.pt'\n",
    "\n",
    "# save model\n",
    "torch.save(pde.model.state_dict(), PATH)"
   ]
  },
  {
   "cell_type": "markdown",
   "metadata": {},
   "source": [
    "Then we can load the model to continue training or just use it to get a solution. "
   ]
  },
  {
   "cell_type": "code",
   "execution_count": null,
   "metadata": {},
   "outputs": [],
   "source": [
    "pde.model.load_state_dict(torch.load(PATH))"
   ]
  },
  {
   "cell_type": "markdown",
   "metadata": {},
   "source": [
    "When loading a model for evaluation, it is not required to set values for inputs/parameters. Nevertheless, to continue training all the previous steps are required."
   ]
  },
  {
   "cell_type": "markdown",
   "metadata": {},
   "source": [
    "### Author\n",
    "\n",
    "Juan Sensio - juansensio03@gmail.com"
   ]
  }
 ],
 "metadata": {
  "kernelspec": {
   "display_name": "Python 3",
   "language": "python",
   "name": "python3"
  },
  "language_info": {
   "codemirror_mode": {
    "name": "ipython",
    "version": 3
   },
   "file_extension": ".py",
   "mimetype": "text/x-python",
   "name": "python",
   "nbconvert_exporter": "python",
   "pygments_lexer": "ipython3",
   "version": "3.5.2"
  }
 },
 "nbformat": 4,
 "nbformat_minor": 2
}
