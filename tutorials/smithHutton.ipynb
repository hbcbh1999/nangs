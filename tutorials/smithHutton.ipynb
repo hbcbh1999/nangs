{
 "cells": [
  {
   "cell_type": "markdown",
   "metadata": {},
   "source": [
    "## Smith-Hutton Problem\n",
    "\n",
    "We want to solve the following PDE:\n",
    "\n",
    "\\begin{equation}\n",
    "    u \\frac{\\partial \\phi}{\\partial x} + v \\frac{\\partial \\phi}{\\partial y} = 0\n",
    "\\end{equation}\n",
    "\n",
    "The independen variables (i.e, $x$, $y$) are used as input values for the NN, and the solution (i.e. $\\phi(x,y)$) is the output. In order to find the solution, at each step the NN outputs are derived w.r.t the inputs. Then, a loss function that matches the PDE is built and the weights are updated accordingly. If the loss function goes to zero, we can assume that our NN is indeed the solution to our PDE. We will try to find a general solution for different values of $u$, so it will be set also as an input. The geometry of the problem is as follows:\n",
    "\n",
    "![sh](pics/sh.png)"
   ]
  },
  {
   "cell_type": "code",
   "execution_count": 1,
   "metadata": {},
   "outputs": [
    {
     "name": "stdout",
     "output_type": "stream",
     "text": [
      "cpu\n"
     ]
    }
   ],
   "source": [
    "import math\n",
    "import numpy as np \n",
    "import matplotlib.pyplot as plt \n",
    "\n",
    "import torch\n",
    "cuda = False\n",
    "device = torch.device(\"cuda:0\" if torch.cuda.is_available() and cuda else \"cpu\")\n",
    "print(device)\n",
    "\n",
    "%reload_ext autoreload\n",
    "%autoreload 2\n",
    "%matplotlib inline"
   ]
  },
  {
   "cell_type": "markdown",
   "metadata": {},
   "source": [
    "First we define our PDE and set the values for training."
   ]
  },
  {
   "cell_type": "code",
   "execution_count": 2,
   "metadata": {},
   "outputs": [],
   "source": [
    "from nangs import PDE\n",
    "from nangs.bocos import PeriodicBoco, DirichletBoco, NeumannBoco\n",
    "\n",
    "class MyPDE(PDE):\n",
    "    def __init__(self, inputs=None, outputs=None):\n",
    "        super().__init__(inputs, outputs)\n",
    "    def computePdeLoss(self, grads, inputs, params): \n",
    "        dpdx, dpdy = grads['p']['x'], grads['p']['y']\n",
    "        x, y = inputs['x'], inputs['y']\n",
    "        u, v = 2*y*(1-x**2), -2*x*(1-y**2)\n",
    "        return u*dpdx + v*dpdy\n",
    "\n",
    "# instanciate pde\n",
    "pde = MyPDE(inputs=['x', 'y'], outputs=['p'])\n",
    "\n",
    "# define input values\n",
    "x = np.linspace(-1,1,60)\n",
    "y = np.linspace(0,1,30)\n",
    "\n",
    "pde.setValues({'x': x, 'y': y})"
   ]
  },
  {
   "cell_type": "markdown",
   "metadata": {},
   "source": [
    "Boundary conditions."
   ]
  },
  {
   "cell_type": "code",
   "execution_count": 3,
   "metadata": {},
   "outputs": [],
   "source": [
    "# left and rigth b.c \n",
    "ALPHA = 100\n",
    "x1, x2 = np.array([-1, 1]), np.array([1])\n",
    "p = np.zeros(2*len(y))\n",
    "for i in range(2*len(y)): p[i] = 1. - math.tanh(ALPHA)\n",
    "boco = DirichletBoco(pde.inputs, pde.outputs, {'x': x1, 'y': y}, {'p': p})\n",
    "pde.addBoco(boco)\n",
    "\n",
    "# top b.c \n",
    "y2 = np.array([1])\n",
    "p = np.zeros(len(x))\n",
    "for i in range(len(x)): p[i] = 1. - math.tanh(ALPHA)\n",
    "boco = DirichletBoco(pde.inputs, pde.outputs, {'x': x, 'y': y2}, {'p': p})\n",
    "pde.addBoco(boco)\n",
    "\n",
    "# bottom b.c\n",
    "y1 = np.array([0])\n",
    "x1, x2, p1 = [], [], []\n",
    "for i in range(len(x)): \n",
    "    if x[i] < 0:\n",
    "        x1.append(x[i])\n",
    "        p1.append(1.+math.tanh(ALPHA*(2*x[i]+1)))\n",
    "    else:\n",
    "        x2.append(x[i])\n",
    "        \n",
    "x1, x2, p1 = np.array(x1), np.array(x2), np.array(p1)\n",
    "        \n",
    "boco = DirichletBoco(pde.inputs, pde.outputs, {'x': x1, 'y': y1}, {'p': p1})\n",
    "pde.addBoco(boco)\n",
    "\n",
    "# TODO\n",
    "boco = NeumannBoco(pde.inputs, pde.outputs, {'x': x2, 'y': y1}, grads={'p': 'y'})\n",
    "pde.addBoco(boco)\n",
    "\n",
    "#pde.bocoSummary()"
   ]
  },
  {
   "cell_type": "code",
   "execution_count": 4,
   "metadata": {},
   "outputs": [
    {
     "data": {
      "image/png": "[encoded data removed]",
      "text/plain": [
       "<Figure size 432x288 with 1 Axes>"
      ]
     },
     "metadata": {
      "needs_background": "light"
     },
     "output_type": "display_data"
    }
   ],
   "source": [
    "plt.plot(x1,p1)\n",
    "plt.show()"
   ]
  },
  {
   "cell_type": "markdown",
   "metadata": {},
   "source": [
    "Now we define a topology for our solution and set the training parameters. Then we can find a solution for our PDE."
   ]
  },
  {
   "cell_type": "code",
   "execution_count": null,
   "metadata": {},
   "outputs": [],
   "source": [
    "# define solution topology\n",
    "topo = {'layers': 5, 'neurons': 1024, 'activations': 'relu'}\n",
    "pde.buildModel(topo, device)\n",
    "\n",
    "# set optimization parameters\n",
    "pde.setSolverParams(lr=0.001,epochs=30, batch_size=50)"
   ]
  },
  {
   "cell_type": "code",
   "execution_count": null,
   "metadata": {},
   "outputs": [
    {
     "name": "stderr",
     "output_type": "stream",
     "text": [
      "100%|##########| 36/36 [00:13<00:00,  3.02it/s]\n",
      "  0%|          | 0/36 [00:00<?, ?it/s]"
     ]
    },
    {
     "name": "stdout",
     "output_type": "stream",
     "text": [
      "Best model, saved !\n",
      "Epoch: 1, Loss: 1.197209 \n"
     ]
    },
    {
     "name": "stderr",
     "output_type": "stream",
     "text": [
      "100%|##########| 36/36 [00:12<00:00,  2.70it/s]\n",
      "  0%|          | 0/36 [00:00<?, ?it/s]"
     ]
    },
    {
     "name": "stdout",
     "output_type": "stream",
     "text": [
      "Best model, saved !\n",
      "Epoch: 2, Loss: 0.213520 \n"
     ]
    },
    {
     "name": "stderr",
     "output_type": "stream",
     "text": [
      "100%|##########| 36/36 [00:14<00:00,  2.76it/s]\n",
      "  0%|          | 0/36 [00:00<?, ?it/s]"
     ]
    },
    {
     "name": "stdout",
     "output_type": "stream",
     "text": [
      "Best model, saved !\n",
      "Epoch: 3, Loss: 0.172674 \n"
     ]
    },
    {
     "name": "stderr",
     "output_type": "stream",
     "text": [
      "100%|##########| 36/36 [00:12<00:00,  2.54it/s]\n",
      "  0%|          | 0/36 [00:00<?, ?it/s]"
     ]
    },
    {
     "name": "stdout",
     "output_type": "stream",
     "text": [
      "Best model, saved !\n",
      "Epoch: 4, Loss: 0.168132 \n"
     ]
    },
    {
     "name": "stderr",
     "output_type": "stream",
     "text": [
      "100%|##########| 36/36 [00:13<00:00,  2.41it/s]\n",
      "  0%|          | 0/36 [00:00<?, ?it/s]"
     ]
    },
    {
     "name": "stdout",
     "output_type": "stream",
     "text": [
      "Best model, saved !\n",
      "Epoch: 5, Loss: 0.125830 \n"
     ]
    },
    {
     "name": "stderr",
     "output_type": "stream",
     "text": [
      "100%|##########| 36/36 [00:12<00:00,  3.07it/s]\n",
      "  0%|          | 0/36 [00:00<?, ?it/s]"
     ]
    },
    {
     "name": "stdout",
     "output_type": "stream",
     "text": [
      "Epoch: 6, Loss: 0.132072 \n"
     ]
    },
    {
     "name": "stderr",
     "output_type": "stream",
     "text": [
      "100%|##########| 36/36 [00:11<00:00,  3.04it/s]\n",
      "  0%|          | 0/36 [00:00<?, ?it/s]"
     ]
    },
    {
     "name": "stdout",
     "output_type": "stream",
     "text": [
      "Epoch: 7, Loss: 0.130124 \n"
     ]
    },
    {
     "name": "stderr",
     "output_type": "stream",
     "text": [
      " 83%|########3 | 30/36 [00:11<00:02,  2.55it/s]"
     ]
    }
   ],
   "source": [
    "# find the solution\n",
    "pde.solve(device, 'sh_best.pth') "
   ]
  },
  {
   "cell_type": "markdown",
   "metadata": {},
   "source": [
    "Finally, we can evaluate our solution."
   ]
  },
  {
   "cell_type": "code",
   "execution_count": null,
   "metadata": {},
   "outputs": [],
   "source": [
    "# evaluate the solution\n",
    "pde.model.load_state_dict(torch.load('sh_best.pth'))\n",
    "x = np.linspace(-1,1,40)\n",
    "y = np.linspace(0,1,20)\n",
    "p = pde.eval({'x': x, 'y': y}, device)\n",
    "plt.imshow(p.reshape((len(y),len(x))), vmin=p.min(), vmax=p.max(), origin='lower',\n",
    "           extent=[x.min(), x.max(), y.min(), y.max()])\n",
    "plt.colorbar()\n",
    "plt.show()"
   ]
  },
  {
   "cell_type": "code",
   "execution_count": null,
   "metadata": {},
   "outputs": [],
   "source": [
    "x = np.linspace(-1,1,40)\n",
    "y = np.array([0])\n",
    "p = pde.eval({'x': x, 'y': y}, device)\n",
    "plt.plot(x,p)\n",
    "plt.plot(x1,p1)\n",
    "plt.plot(x1+1,np.flip(p1))\n",
    "plt.show"
   ]
  },
  {
   "cell_type": "markdown",
   "metadata": {},
   "source": [
    "### Author\n",
    "\n",
    "Juan Sensio - juansensio03@gmail.com"
   ]
  }
 ],
 "metadata": {
  "kernelspec": {
   "display_name": "Python 3",
   "language": "python",
   "name": "python3"
  },
  "language_info": {
   "codemirror_mode": {
    "name": "ipython",
    "version": 3
   },
   "file_extension": ".py",
   "mimetype": "text/x-python",
   "name": "python",
   "nbconvert_exporter": "python",
   "pygments_lexer": "ipython3",
   "version": "3.5.2"
  }
 },
 "nbformat": 4,
 "nbformat_minor": 2
}
