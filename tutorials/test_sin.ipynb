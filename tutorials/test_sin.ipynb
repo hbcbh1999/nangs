{
 "cells": [
  {
   "cell_type": "code",
   "execution_count": 31,
   "metadata": {},
   "outputs": [],
   "source": [
    "import math\n",
    "import numpy as np \n",
    "import matplotlib.pyplot as plt \n",
    "\n",
    "%matplotlib inline"
   ]
  },
  {
   "cell_type": "code",
   "execution_count": 46,
   "metadata": {},
   "outputs": [
    {
     "data": {
      "image/png": "[encoded data removed]",
      "text/plain": [
       "<Figure size 432x288 with 1 Axes>"
      ]
     },
     "metadata": {
      "needs_background": "light"
     },
     "output_type": "display_data"
    }
   ],
   "source": [
    "x, t = np.linspace(0,1,100), [0]\n",
    "p0 = np.sin(2.*math.pi*x)\n",
    "plt.plot(x, p0)\n",
    "plt.show()"
   ]
  },
  {
   "cell_type": "code",
   "execution_count": 47,
   "metadata": {},
   "outputs": [],
   "source": [
    "from nangs.vars import IndependentVar, DependentVar\n",
    "\n",
    "_x = IndependentVar('x', x.tolist())\n",
    "_t = IndependentVar('t', t)\n",
    "_p = DependentVar('p', p0.tolist())\n",
    "inputs = [_x, _t]\n",
    "outputs = [_p]"
   ]
  },
  {
   "cell_type": "code",
   "execution_count": 48,
   "metadata": {},
   "outputs": [],
   "source": [
    "from nangs.bocos.dirichlet_boco import DirichletBocoDataset\n",
    "\n",
    "dataset = DirichletBocoDataset(inputs, outputs)"
   ]
  },
  {
   "cell_type": "code",
   "execution_count": 50,
   "metadata": {},
   "outputs": [],
   "source": [
    "from torch.utils.data import DataLoader\n",
    "\n",
    "dataloader = DataLoader(dataset, batch_size=100, shuffle=False, num_workers=4)"
   ]
  },
  {
   "cell_type": "code",
   "execution_count": 51,
   "metadata": {},
   "outputs": [
    {
     "data": {
      "text/plain": [
       "Solution(\n",
       "  (activation): ReLU(inplace)\n",
       "  (fc_in): Sequential(\n",
       "    (0): Linear(in_features=2, out_features=32, bias=True)\n",
       "    (1): ReLU(inplace)\n",
       "  )\n",
       "  (fc_hidden): ModuleList(\n",
       "    (0): Sequential(\n",
       "      (0): Linear(in_features=32, out_features=32, bias=True)\n",
       "      (1): ReLU(inplace)\n",
       "    )\n",
       "    (1): Sequential(\n",
       "      (0): Linear(in_features=32, out_features=32, bias=True)\n",
       "      (1): ReLU(inplace)\n",
       "    )\n",
       "    (2): Sequential(\n",
       "      (0): Linear(in_features=32, out_features=32, bias=True)\n",
       "      (1): ReLU(inplace)\n",
       "    )\n",
       "    (3): Sequential(\n",
       "      (0): Linear(in_features=32, out_features=32, bias=True)\n",
       "      (1): ReLU(inplace)\n",
       "    )\n",
       "    (4): Sequential(\n",
       "      (0): Linear(in_features=32, out_features=32, bias=True)\n",
       "      (1): ReLU(inplace)\n",
       "    )\n",
       "  )\n",
       "  (fc_out): Linear(in_features=32, out_features=1, bias=True)\n",
       ")"
      ]
     },
     "execution_count": 51,
     "metadata": {},
     "output_type": "execute_result"
    }
   ],
   "source": [
    "from nangs.pde.solution import Solution\n",
    "\n",
    "model = Solution(2,1,5,32,'relu')\n",
    "model"
   ]
  },
  {
   "cell_type": "code",
   "execution_count": 52,
   "metadata": {},
   "outputs": [],
   "source": [
    "import torch\n",
    "\n",
    "optimizer = torch.optim.Adam(model.parameters(), lr=0.01)"
   ]
  },
  {
   "cell_type": "code",
   "execution_count": 68,
   "metadata": {},
   "outputs": [
    {
     "name": "stdout",
     "output_type": "stream",
     "text": [
      "Epoch: 0, Loss: 3.248499342589639e-05 \n",
      "Epoch: 1, Loss: 9.298441000282764e-05 \n",
      "Epoch: 2, Loss: 8.447620348306373e-05 \n",
      "Epoch: 3, Loss: 2.4829525500535965e-05 \n",
      "Epoch: 4, Loss: 1.514723408035934e-05 \n",
      "Epoch: 5, Loss: 5.829213478136808e-05 \n",
      "Epoch: 6, Loss: 6.709596345899627e-05 \n",
      "Epoch: 7, Loss: 2.913634125434328e-05 \n",
      "Epoch: 8, Loss: 7.597904186695814e-06 \n",
      "Epoch: 9, Loss: 2.7326648705638945e-05 \n",
      "Epoch: 10, Loss: 4.394458665046841e-05 \n",
      "Epoch: 11, Loss: 3.0303264793474227e-05 \n",
      "Epoch: 12, Loss: 8.788399100012612e-06 \n",
      "Epoch: 13, Loss: 1.1745685696951114e-05 \n",
      "Epoch: 14, Loss: 2.749568739091046e-05 \n",
      "Epoch: 15, Loss: 2.8332535293884575e-05 \n",
      "Epoch: 16, Loss: 1.4075015315029304e-05 \n",
      "Epoch: 17, Loss: 6.0506322370201815e-06 \n",
      "Epoch: 18, Loss: 1.2130386494391132e-05 \n",
      "Epoch: 19, Loss: 2.109043452946935e-05 \n",
      "Epoch: 20, Loss: 1.9578703359002247e-05 \n",
      "Epoch: 21, Loss: 1.0263673175359145e-05 \n",
      "Epoch: 22, Loss: 4.768233793583931e-06 \n",
      "Epoch: 23, Loss: 8.371074727619998e-06 \n",
      "Epoch: 24, Loss: 1.4302716408565175e-05 \n",
      "Epoch: 25, Loss: 1.4321119124360848e-05 \n",
      "Epoch: 26, Loss: 8.9181794464821e-06 \n",
      "Epoch: 27, Loss: 4.664905191020807e-06 \n",
      "Epoch: 28, Loss: 5.361959210858913e-06 \n",
      "Epoch: 29, Loss: 8.723825885681435e-06 \n"
     ]
    }
   ],
   "source": [
    "epochs = 30\n",
    "for epoch in range(epochs):\n",
    "    total_loss = []\n",
    "    for input, output in dataloader:\n",
    "        pred = model(input)\n",
    "        loss = (pred-output).pow(2).mean()\n",
    "        optimizer.zero_grad()\n",
    "        loss.backward()\n",
    "        optimizer.step()\n",
    "        total_loss.append(loss.data)\n",
    "    print('Epoch: {}, Loss: {} '.format(epoch, np.array(total_loss).mean()))"
   ]
  },
  {
   "cell_type": "code",
   "execution_count": 69,
   "metadata": {},
   "outputs": [
    {
     "data": {
      "image/png": "[encoded data removed]",
      "text/plain": [
       "<Figure size 432x288 with 1 Axes>"
      ]
     },
     "metadata": {
      "needs_background": "light"
     },
     "output_type": "display_data"
    }
   ],
   "source": [
    "p = []\n",
    "for i in range(len(dataset)):\n",
    "    input, _ = dataset[i]\n",
    "    p.append(model(input))\n",
    "    \n",
    "plt.plot(x,p0)\n",
    "plt.plot(x,p)\n",
    "plt.show()"
   ]
  },
  {
   "cell_type": "code",
   "execution_count": null,
   "metadata": {},
   "outputs": [],
   "source": []
  },
  {
   "cell_type": "code",
   "execution_count": null,
   "metadata": {},
   "outputs": [],
   "source": []
  }
 ],
 "metadata": {
  "kernelspec": {
   "display_name": "Python 3",
   "language": "python",
   "name": "python3"
  },
  "language_info": {
   "codemirror_mode": {
    "name": "ipython",
    "version": 3
   },
   "file_extension": ".py",
   "mimetype": "text/x-python",
   "name": "python",
   "nbconvert_exporter": "python",
   "pygments_lexer": "ipython3",
   "version": "3.5.2"
  }
 },
 "nbformat": 4,
 "nbformat_minor": 2
}
